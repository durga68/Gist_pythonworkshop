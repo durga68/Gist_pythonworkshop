{
 "cells": [
  {
   "cell_type": "markdown",
   "metadata": {},
   "source": [
    "##### string slicing\n"
   ]
  },
  {
   "cell_type": "code",
   "execution_count": 1,
   "metadata": {},
   "outputs": [
    {
     "name": "stdout",
     "output_type": "stream",
     "text": [
      "python programming\n",
      "0\n",
      "python programming\n"
     ]
    }
   ],
   "source": [
    "#string slicing\n",
    "s=\"python programming\"\n",
    "print(s[0:])\n",
    "pos=s.index('')\n",
    "print(pos)\n",
    "print(s[pos:])"
   ]
  },
  {
   "cell_type": "code",
   "execution_count": 2,
   "metadata": {},
   "outputs": [
    {
     "name": "stdout",
     "output_type": "stream",
     "text": [
      "even characters\n",
      "pto rgamn\n",
      "odd characters\n",
      "yhnpormig\n"
     ]
    }
   ],
   "source": [
    "#even and odd positions\n",
    "s=\"python programming\"\n",
    "print(\"even characters\")\n",
    "print(s[0::2])\n",
    "print(\"odd characters\")\n",
    "print(s[1::2])"
   ]
  },
  {
   "cell_type": "code",
   "execution_count": 3,
   "metadata": {},
   "outputs": [
    {
     "name": "stdout",
     "output_type": "stream",
     "text": [
      "palindrome\n"
     ]
    }
   ],
   "source": [
    "#palindrome\n",
    "string=\"MALAYALAM\"\n",
    "revstring=string[::-1]\n",
    "if(string==revstring):\n",
    "    print(\"palindrome\")\n",
    "else:\n",
    "    print(\"not a palindrome\")"
   ]
  },
  {
   "cell_type": "code",
   "execution_count": 4,
   "metadata": {},
   "outputs": [
    {
     "name": "stdout",
     "output_type": "stream",
     "text": [
      "enter your data:durga68\n",
      "['d', 'u', 'r', 'g', 'a']\n",
      "['6', '8']\n"
     ]
    }
   ],
   "source": [
    "#separation of alphabets and numerics\n",
    "s=input(\"enter your data:\")\n",
    "alphabets=[]\n",
    "numaric=[]\n",
    "for i in range(len(s)):\n",
    "    if(s[i].isalpha()):\n",
    "        alphabets.append(s[i])\n",
    "    if(s[i].isnumeric()):\n",
    "        numaric.append(s[i])\n",
    "print(alphabets)\n",
    "print(numaric)"
   ]
  },
  {
   "cell_type": "code",
   "execution_count": 5,
   "metadata": {},
   "outputs": [
    {
     "name": "stdout",
     "output_type": "stream",
     "text": [
      "enter your data:bca629\n",
      "['b', 'c', 'a']\n",
      "['6', '2', '9']\n",
      "['a', 'b', 'c']\n",
      "['2', '6', '9']\n"
     ]
    }
   ],
   "source": [
    "#separation of alphabets & numerics and then sorting\n",
    "s=input(\"enter your data:\")\n",
    "alphabets=[]\n",
    "numaric=[]\n",
    "for i in range(len(s)):\n",
    "    if(s[i].isalpha()):\n",
    "        alphabets.append(s[i])\n",
    "    if(s[i].isnumeric()):\n",
    "        numaric.append(s[i])\n",
    "print(alphabets)\n",
    "print(numaric)\n",
    "alphabets=sorted(alphabets)\n",
    "numaric=sorted(numaric)\n",
    "print(alphabets)\n",
    "print(numaric)"
   ]
  },
  {
   "cell_type": "code",
   "execution_count": 6,
   "metadata": {},
   "outputs": [
    {
     "name": "stdout",
     "output_type": "stream",
     "text": [
      "enter your data:bca9318\n",
      "['b', 'c', 'a']\n",
      "['9', '3', '1', '8']\n",
      "['a', 'b', 'c']\n",
      "['1', '3', '8', '9']\n",
      "a b c\n",
      "1 3 8 9\n",
      "a b c1 3 8 9\n"
     ]
    }
   ],
   "source": [
    "#joining alphabetlist and numaric list\n",
    "s=input(\"enter your data:\")\n",
    "alphabets=[]\n",
    "numaric=[]\n",
    "for i in range(len(s)):\n",
    "    if(s[i].isalpha()):\n",
    "        alphabets.append(s[i])\n",
    "    if(s[i].isnumeric()):\n",
    "        numaric.append(s[i])\n",
    "print(alphabets)\n",
    "print(numaric)\n",
    "alphabets=sorted(alphabets)\n",
    "numaric=sorted(numaric)\n",
    "print(alphabets)\n",
    "print(numaric)\n",
    "sorted_alphabet_list=\" \".join(alphabets)\n",
    "sorted_numaric_list=\" \".join(numaric)\n",
    "print(sorted_alphabet_list)\n",
    "print(sorted_numaric_list)\n",
    "data=sorted_alphabet_list+sorted_numaric_list\n",
    "print(data)"
   ]
  },
  {
   "cell_type": "code",
   "execution_count": 7,
   "metadata": {},
   "outputs": [
    {
     "name": "stdout",
     "output_type": "stream",
     "text": [
      "enter stringpython\n",
      "pppp yyyy tttt hhhh oooo nnnn "
     ]
    }
   ],
   "source": [
    "#character accessing \n",
    "s=input(\"enter string\")\n",
    "for i in range(len(s)):\n",
    "    print(s[i]*4,end=\" \")"
   ]
  },
  {
   "cell_type": "code",
   "execution_count": null,
   "metadata": {},
   "outputs": [],
   "source": [
    "s=input(\"enter string\")\n",
    "for i in range(len(s)):\n",
    "    \n",
    "    print(s[i]*4,end=\" \")"
   ]
  },
  {
   "cell_type": "code",
   "execution_count": 2,
   "metadata": {},
   "outputs": [
    {
     "name": "stdout",
     "output_type": "stream",
     "text": [
      "durga68\n",
      "durgadurgadurgadurgadurgadurga\n",
      "\n"
     ]
    }
   ],
   "source": [
    "s=input()\n",
    "data=''\n",
    "for i in range(len(s)):\n",
    "    if(s[i].isalpha()):\n",
    "        data=data+s[i]\n",
    "    if(s[i].isnumeric()):\n",
    "        print(data*int(s[i]))\n",
    "        data=' '\n"
   ]
  },
  {
   "cell_type": "code",
   "execution_count": 9,
   "metadata": {},
   "outputs": [
    {
     "name": "stdout",
     "output_type": "stream",
     "text": [
      "enter a stringsaisridurga\n",
      "['saisridurga']\n",
      "even pos of data: agrudirsias \n",
      " odd pos data: saisridurga \n",
      "all reverse data: agrudirsias "
     ]
    }
   ],
   "source": [
    "#reverse the data\n",
    "data=input(\"enter a string\")\n",
    "data=data.split()\n",
    "print(data)\n",
    "print(\"even pos of data:\",end=\" \")\n",
    "for i in range(len(data)):\n",
    "    if(i%2==0):\n",
    "        print(data[i][::-1],end=\" \")\n",
    "    else:\n",
    "        print(data[i],end=\" \")\n",
    "print(\"\\n odd pos data:\",end=\" \")\n",
    "for i in range(len(data)):\n",
    "    if(i%2==1):\n",
    "        print(data[i][::-1],end=\" \")\n",
    "    else:\n",
    "        print(data[i],end=\" \")\n",
    "print(\"\\nall reverse data:\",end=\" \")\n",
    "for i in range(len(data)):\n",
    "    print(data[i][::-1],end=\" \")\n"
   ]
  },
  {
   "cell_type": "code",
   "execution_count": 1,
   "metadata": {},
   "outputs": [
    {
     "name": "stdout",
     "output_type": "stream",
     "text": [
      "enter a stringdurga\n",
      "enter a number5\n",
      "ddddd\n",
      "uuuu\n",
      "rrr\n",
      "gg\n",
      "a\n"
     ]
    }
   ],
   "source": [
    "s=input(\"enter a string\")\n",
    "r=int(input(\"enter a number\"))\n",
    "for i in range(len(s)):\n",
    "    print(s[i]*r)\n",
    "    r=r-1\n",
    "    "
   ]
  },
  {
   "cell_type": "markdown",
   "metadata": {},
   "source": [
    "# Frequency of each characters\n"
   ]
  },
  {
   "cell_type": "code",
   "execution_count": 4,
   "metadata": {},
   "outputs": [
    {
     "name": "stdout",
     "output_type": "stream",
     "text": [
      "a -----> 5\n",
      "a -----> 5\n",
      "a -----> 5\n",
      "a -----> 5\n",
      "a -----> 5\n",
      "b -----> 4\n",
      "b -----> 4\n",
      "b -----> 4\n",
      "b -----> 4\n",
      "r -----> 4\n",
      "r -----> 4\n",
      "r -----> 4\n",
      "r -----> 4\n",
      "e -----> 4\n",
      "e -----> 4\n",
      "e -----> 4\n",
      "e -----> 4\n"
     ]
    }
   ],
   "source": [
    "s=\"aaaaabbbbrrrreeee\"\n",
    "for i in range(len(s)):\n",
    "    print(s[i],\"----->\",s.count(s[i]))\n",
    "    \n"
   ]
  },
  {
   "cell_type": "code",
   "execution_count": 1,
   "metadata": {},
   "outputs": [
    {
     "ename": "SyntaxError",
     "evalue": "invalid syntax (<ipython-input-1-ba1fdd5b54e9>, line 3)",
     "output_type": "error",
     "traceback": [
      "\u001b[1;36m  File \u001b[1;32m\"<ipython-input-1-ba1fdd5b54e9>\"\u001b[1;36m, line \u001b[1;32m3\u001b[0m\n\u001b[1;33m    print(ch\"--->\",s,count(ch))\u001b[0m\n\u001b[1;37m                 ^\u001b[0m\n\u001b[1;31mSyntaxError\u001b[0m\u001b[1;31m:\u001b[0m invalid syntax\n"
     ]
    }
   ],
   "source": [
    "s=\"aaaaabbbbrrrreeee\"\n",
    "for ch in s:\n",
    "    print(ch\"--->\",s,count(ch))\n",
    "s=list(s)\n",
    "li[]\n",
    "if ch not in li:\n",
    "    li.append(ch)\n",
    "print(li)"
   ]
  },
  {
   "cell_type": "code",
   "execution_count": 6,
   "metadata": {},
   "outputs": [
    {
     "name": "stdout",
     "output_type": "stream",
     "text": [
      "A= 65\n",
      "Z= 90\n",
      "a= 97\n",
      "z= 122\n",
      "0= 48\n",
      "9= 57\n"
     ]
    }
   ],
   "source": [
    "#ascii\n",
    "print(\"A=\",ord('A'))\n",
    "print(\"Z=\",ord('Z'))\n",
    "print(\"a=\",ord('a'))\n",
    "print(\"z=\",ord('z'))\n",
    "print(\"0=\",ord('0'))\n",
    "print(\"9=\",ord('9'))\n"
   ]
  },
  {
   "cell_type": "code",
   "execution_count": 12,
   "metadata": {},
   "outputs": [
    {
     "name": "stdout",
     "output_type": "stream",
     "text": [
      "A\n",
      "Z\n",
      "a\n",
      "z\n",
      "0\n",
      "9\n"
     ]
    }
   ],
   "source": [
    "print(chr(65))\n",
    "print(chr(90))\n",
    "print(chr(97))\n",
    "print(chr(122))\n",
    "print(chr(48))\n",
    "print(chr(57))"
   ]
  },
  {
   "cell_type": "code",
   "execution_count": 13,
   "metadata": {},
   "outputs": [
    {
     "ename": "SyntaxError",
     "evalue": "invalid syntax (<ipython-input-13-d3f3f30132e6>, line 4)",
     "output_type": "error",
     "traceback": [
      "\u001b[1;36m  File \u001b[1;32m\"<ipython-input-13-d3f3f30132e6>\"\u001b[1;36m, line \u001b[1;32m4\u001b[0m\n\u001b[1;33m    if(s[i]).isalpha()):\u001b[0m\n\u001b[1;37m                      ^\u001b[0m\n\u001b[1;31mSyntaxError\u001b[0m\u001b[1;31m:\u001b[0m invalid syntax\n"
     ]
    }
   ],
   "source": [
    "s=input()\n",
    "data=''\n",
    "for i in range(len(s)):\n",
    "    if(s[i]).isalpha()):\n",
    "        data=data+s[i]\n",
    "    if(s[i].isnumeric()):\n",
    "        asc=ord(s(i-1))\n",
    "        data=data+chr(asc+int(s[i]))\n",
    "print(data)\n",
    "            \n"
   ]
  },
  {
   "cell_type": "code",
   "execution_count": null,
   "metadata": {},
   "outputs": [],
   "source": []
  }
 ],
 "metadata": {
  "kernelspec": {
   "display_name": "Python 3",
   "language": "python",
   "name": "python3"
  },
  "language_info": {
   "codemirror_mode": {
    "name": "ipython",
    "version": 3
   },
   "file_extension": ".py",
   "mimetype": "text/x-python",
   "name": "python",
   "nbconvert_exporter": "python",
   "pygments_lexer": "ipython3",
   "version": "3.7.1"
  }
 },
 "nbformat": 4,
 "nbformat_minor": 2
}
